{
 "cells": [
  {
   "cell_type": "markdown",
   "metadata": {},
   "source": [
    "# 2021 Workshop - Getting started with Snowflake, Python and Machine Learning\n",
    "## Nic Crouch, Snowflake, March 2021\n",
    "\n",
    "Hi there! Thanks for joining us for a Snowflake Virtual Hands on Lab workshop! \n",
    "\n",
    "The goal of today's workshop is to show you how to go from nothing to having a basic Machine Learning pipeline running over your data. As our example, we'll be using some datasets provided by the City of Melbourne at https://data.melbourne.vic.gov.au. \n",
    "\n",
    "We'll:\n",
    "\n",
    "1) Get your Jupyter Notebook set up and connected to Snowflake\n",
    "\n",
    "2) Set up your Snowflake instance to be ready to load up your first dataset\n",
    "\n",
    "3) Load up the dataset, ready to start feature engineering\n",
    "\n",
    "4) Explore the dataset to discover what feature engineering we'll have to do\n",
    "\n",
    "5) Perform some simple feature engineering in Snowflake\n",
    "\n",
    "6) Use part of the dataset to train Facebook Prophet, a simple machine learning library for time-series based analysis\n",
    "\n",
    "7) Use our Prophet model to make predictions for the future, and push those predictions back into Snowflake for later use\n",
    "\n"
   ]
  },
  {
   "cell_type": "markdown",
   "metadata": {},
   "source": [
    "## Step 0: Configure your environment.\n",
    "\n",
    "### Windows Users\n",
    "We're going to use a number of tools today that don't come batteries included with Python; including a couple that can be a little painful to install if you're on Windows and just using regular old Python. As such, if you're on Windows, you have three options:\n",
    "\n",
    "1) Use a Conda environment. \n",
    "\n",
    "2) Use a Docker container. \n",
    "\n",
    "3) Use WSL.\n",
    "\n",
    "The install of each of these is beyond the scope of the workshop; I personally recommend downloading the Anaconda distribution and using that if you don't have Docker set up already. \n",
    "\n",
    "This workshop was developed using the [Snowtire](https://github.com/zoharsan/snowtire) Docker image. Note that, if you're on Windows, you'll need to make sure you convert the line endings in `deploy_snowflake.sh` from Windows mode to Unix mode before building the image. You can do this in Notepad++. \n",
    "\n",
    "If you're using Conda, the main challenge for you will be installing Facebook Prophet / PySTAN. You'll need to follow their [instructions for Windows](https://pystan.readthedocs.io/en/latest/windows.html) in order to get it installed.\n",
    "\n",
    "If you're using WSL, you should just be able to pretend that you're on Linux! If you've got it installed and running, the hard part is done. \n",
    "\n",
    "### Linux / MacOS Users\n",
    "\n",
    "This is way easier. Just make sure you're using a virtualenv or similar. I still recommend using the [Snowtire](https://github.com/zoharsan/snowtire) image though if that's easier for you.\n",
    "\n",
    "The following lines ensure that everything we need is installed.\n",
    "\n",
    "### Everyone\n",
    "\n",
    "Note that you will need approximately 4GB of RAM available to run this Notebook or the kernel will crash when you attempt to run the prediction. You'll also benefit from having more cores available.\n",
    "\n",
    "Note that neither of these is supplied well by Docker by default. It's highly recommended to go to your Docker settings and set the resources to a more appropriate number _before_ running through this notebook."
   ]
  },
  {
   "cell_type": "code",
   "execution_count": null,
   "metadata": {},
   "outputs": [],
   "source": [
    "import os\n",
    "\n",
    "# This block installs things with Conda, which is recommended method by the PyStan folks for getting a\n",
    "# Windows install working. Of course, it would also work on Linux if you have Conda, but so will pip.\n",
    "if os == 'nt':\n",
    "    !conda install libpython m2w64-toolchain -c msys2\n",
    "    !conda install numpy cython -c conda-forge\n",
    "    !conda install matplotlib scipy pandas -c conda-forge\n",
    "!pip install ipython-sql\n",
    "!pip install snowflake-connector-python[pandas]\n",
    "!pip install --upgrade snowflake-sqlalchemy\n",
    "!pip install pystan\n",
    "!pip install fbprophet\n"
   ]
  },
  {
   "cell_type": "markdown",
   "metadata": {},
   "source": [
    "## Step 1: Connect to Snowflake\n",
    "\n",
    "If you haven't already got one, you'll need to sign up for a free trial account at https://trial.snowflake.com. For best results *on this workshop*, I recommend using an AWS AP-Southeast-2 based account running the Enterprise edition. Soon afterwards, you'll get an email from Snowflake with the activation link you need to finish setting up your user.\n",
    "\n",
    "Once you've got that, fill in the code block below with your account details (it's prefilled with my demo account), including the details of the user that you set up as part of the activation process. Note that we'll use `getpass` to get a plain old password in this case, but Snowflake generally recommends setting up OAuth or SSO based authentication methods in production environments.\n",
    "\n",
    "Note: if you type in your password wrong, you can either restart the kernel using the button above, or create a new cell underneath this one and run `password = getpass.getpass()` in it. \n",
    "\n",
    "Note 2: If you leave this notebook open long enough, your session token might expire. In that case, just run this cell again to get a refreshed connection."
   ]
  },
  {
   "cell_type": "code",
   "execution_count": null,
   "metadata": {},
   "outputs": [],
   "source": [
    "import getpass\n",
    "import snowflake\n",
    "import pandas as pd\n",
    "%load_ext sql\n",
    "\n",
    "user = 'john'\n",
    "account = 'au_demo32'\n",
    "region = 'ap-southeast-2'\n",
    "try:\n",
    "    password\n",
    "except NameError:\n",
    "    password = getpass.getpass()\n",
    "\n",
    "# Don't print this on stream!\n",
    "connection_string = 'snowflake://{user}:{password}@{account}.{region}'.format(user=user, password=password, account=account, region=region)\n",
    "\n",
    "# This next line sets up IPython SQL, so that we can write direct SQL into Jupyter cells\n",
    "%sql $connection_string\n",
    "\n",
    "connection = snowflake.connector.connect(\n",
    "account='{}.{}'.format(account, region),\n",
    "user=user,\n",
    "password=password,\n",
    "role='SYSADMIN',\n",
    "database='mcc_open_data',\n",
    "warehouse='parking_wh',\n",
    "schema='parking_sensors'\n",
    ")\n",
    "\n",
    "%sql use role sysadmin;\n",
    "%sql use mcc_open_data.parking_sensors;\n",
    "%sql use warehouse parking_wh;\n"
   ]
  },
  {
   "cell_type": "markdown",
   "metadata": {},
   "source": [
    "### Step 1.1: Testing your connection\n",
    "\n",
    "We're going to test both the Snowflake connector directly, and the IPython SQL connector (which is really just using the SQL Alchemy library under the hood).  "
   ]
  },
  {
   "cell_type": "code",
   "execution_count": null,
   "metadata": {},
   "outputs": [],
   "source": [
    "# This should just get back the time right now.\n",
    "%sql SELECT current_timestamp();"
   ]
  },
  {
   "cell_type": "code",
   "execution_count": null,
   "metadata": {},
   "outputs": [],
   "source": [
    "# This should just get back the time right now... again.\n",
    "connection.cursor().execute('SELECT current_timestamp();').fetch_pandas_all()"
   ]
  },
  {
   "cell_type": "markdown",
   "metadata": {},
   "source": [
    "## Step 2: Set up the compute and the storage.\n",
    "\n",
    "The next thing we'll do is set up a place in Snowflake - a database, schema and table - to put our data, and a compute cluster, or _virtual warehouse,_ that will do the actual work of ingesting and processing data. This should be a similar structure to any other relational database you've used previously.\n",
    "\n",
    "Remember: In Snowflake, Compute and Storage are completely separated, so you don't need to have _any_ compute turned on to keep storing data that you've already ingested. Not only that but because of Snowflake's multi-cluster shared-compute architecture, you can have as many or as few virtual warehouses as you like, all accessing the same data with no contention.\n"
   ]
  },
  {
   "cell_type": "markdown",
   "metadata": {},
   "source": [
    "### 2.1 Create your database and schema\n",
    "Note that we're using `create or replace` here - you shouldn't re-run this cell later!\n",
    "But, if you do, Snowflake gives you the ability to `UNDROP` databases and schema. Just take a look at the bottom of this notebook. "
   ]
  },
  {
   "cell_type": "code",
   "execution_count": null,
   "metadata": {},
   "outputs": [],
   "source": [
    "%%sql \n",
    "-- This is called 'cell magic', and using ipython-sql, it makes the whole cell a SQL command.\n",
    "-- ... which makes these comments (-- is comment in SQL), even though Jupyter highlights them like Python.\n",
    "create or replace database mcc_open_data; \n",
    "create or replace schema parking_sensors;"
   ]
  },
  {
   "cell_type": "markdown",
   "metadata": {},
   "source": [
    "### 2.2 Create the table to hold the data.\n",
    "Now we're going to create the table that holds our data. The dataset we're using right now is a log of sensor readings from parking sensors all over Melbourne - they describe the arrival time and the departure time of cars, where the sensor is, and whether the car was in violation of the signed parking period or not. We're going to use this data to create a model that tells us the best times to park in parts of Melbourne.\n",
    "\n",
    "Note that beyond the column definition, there's no additional work here - Snowflake takes care of all the optimisations that we'll need behind the scenes. "
   ]
  },
  {
   "cell_type": "code",
   "execution_count": null,
   "metadata": {},
   "outputs": [],
   "source": [
    "%%sql\n",
    "create or replace table historic_data \n",
    "    (DeviceID integer,\n",
    "    ArrivalTime timestamp,\n",
    "    DepartureTime timestamp,\n",
    "    Duration integer,\n",
    "    StreetMarker string,\n",
    "    Sign string,\n",
    "    Area string,\n",
    "    StreetId integer,\n",
    "    StreetName string,\n",
    "    BetweenStreet1 string,\n",
    "    BetweenStreet2 string,\n",
    "    Side integer,\n",
    "    InViolation boolean,\n",
    "    VehiclePresent boolean\n",
    "    );\n"
   ]
  },
  {
   "cell_type": "markdown",
   "metadata": {},
   "source": [
    "### 2.3 Create a warehouse to contain your compute\n",
    "A _virtual warehouse_ in Snowflake is just the _logical definition_ of a compute cluster (or clusters) that you'll use to actually load and query data in Snowflake. It defines the size of the cluster, how many clusters should be used, and when the cluster will be automatically turned off, or suspended. \n",
    "\n",
    "When suspended, there's no actual compute associated with the cluster, so you don't pay anything for it. You only pay for the cluster when it's turned back on, which in most cases will happen within milliseconds.\n",
    "\n",
    "Not only that, but you can increase and decrease the size of a warehouse essentially instantly, so when you have an extra heavy query, you can scale that warehouse up. Once that query is done, you can scale it back down again (or suspend it!). This lets you both control the cost of your queries _and_ get the benefit of elastically scaling cloud compute.\n",
    "\n",
    "We won't really do this in this workshop, but one of the key features of the Warehouse architecture is that you can have essentially unlimited warehouses, allowing you to separate all of your workloads to completely separate compute - without breaking the bank."
   ]
  },
  {
   "cell_type": "code",
   "execution_count": null,
   "metadata": {},
   "outputs": [],
   "source": [
    "%sql CREATE OR REPLACE WAREHOUSE parking_wh WAREHOUSE_SIZE='large' AUTO_SUSPEND=60 INITIALLY_SUSPENDED=TRUE;"
   ]
  },
  {
   "cell_type": "markdown",
   "metadata": {},
   "source": [
    "## Step 3: Loading the data\n",
    "There are four steps to loading structured data into Snowflake:\n",
    "\n",
    "1) Create a table for the data to go in (already done!),\n",
    "\n",
    "2) Tell Snowflake what format the data is in using a `FILE FORMAT`, if it's not in a basic CSV,\n",
    "\n",
    "3) Tell Snowflake where the data is using either an _internal stage_ (storage managed by Snowflake) or an _external stage_ (storage managed in a cloud provider),\n",
    "\n",
    "4) Load the data with `COPY INTO`.\n",
    "\n",
    "For now, we'll use an External Stage on AWS, and CSVs derived from the CSVs hosted on the Melbourne City Council Open Data portal. \n"
   ]
  },
  {
   "cell_type": "markdown",
   "metadata": {},
   "source": [
    "### 3.1 Creating the File Format\n",
    "Snowflake uses `FILE FORMAT`s to define how to load files - in this case, all we need to do is define the timestamp format (which is, strangely for an Australian dataset, MM/DD/YYYY). "
   ]
  },
  {
   "cell_type": "code",
   "execution_count": null,
   "metadata": {},
   "outputs": [],
   "source": [
    "%%sql \n",
    "CREATE OR REPLACE FILE FORMAT parking_history_csv_pre_2018\n",
    "    TYPE=CSV\n",
    "    TIMESTAMP_FORMAT='MM/DD/YYYY HH12:MI:SS AM';"
   ]
  },
  {
   "cell_type": "markdown",
   "metadata": {},
   "source": [
    "### 3.2 Creating the stage\n",
    "\n",
    "Our External Stage is a simple S3 url. In general, you'd set up some authentication for this bucket, but this one happens to be completely public, so we don't need to worry about it. We're loading data from AWS today, but Snowflake also supports loading data from both Azure and GCP based blob stores. \n",
    "\n",
    "Notice that the stage definition also includes the file format, and the error handling method as well as the S3 URL. In this case, we'll skip up to 9 errors in the file before declaring that file unreadable and moving on. "
   ]
  },
  {
   "cell_type": "code",
   "execution_count": null,
   "metadata": {},
   "outputs": [],
   "source": [
    "%%sql \n",
    "CREATE OR REPLACE STAGE melbourne_cc_parking_history url='s3://melbourne-cc-parking-history' \n",
    "    FILE_FORMAT=parking_history_csv_pre_2018\n",
    "    copy_options=(ON_ERROR=SKIP_FILE_9)"
   ]
  },
  {
   "cell_type": "markdown",
   "metadata": {},
   "source": [
    "### 3.3 Ingesting Data\n",
    "Ingesting data in Snowflake is as simple as running a COPY INTO statement. The COPY INTO statement at its most simple, defines the table the data will go into, and the stage the data is coming from. Let's give it a shot!\n",
    "\n",
    "Note: If you like, before you run the below cell, go to the Snowflake UI and check the `Warehouses` tab - all of your warehouses should be suspended. When you submit the below, you should see that warehouse turn on. After 60 seconds of being idle, it'll be suspended again and will stop being charged. "
   ]
  },
  {
   "cell_type": "code",
   "execution_count": null,
   "metadata": {},
   "outputs": [],
   "source": [
    "%%sql\n",
    "-- Takes about a minute\n",
    "COPY INTO historic_data FROM @melbourne_cc_parking_history\n",
    "   RETURN_FAILED_ONLY=TRUE;\n",
    "    \n"
   ]
  },
  {
   "cell_type": "markdown",
   "metadata": {},
   "source": [
    "### 3.3.1 Uh oh!\n",
    "It looks like the dataset was changed between 2017 and 2018 - there's too many columns in the newer CSVs. But, no matter, we can include a `SELECT` query in the `COPY INTO` statement that defines which columns in the source map to which column in the target table. We can also define which files in the stage should get copied. In this case, we're only copying in the 2018 files. Then, we'll do the same for 2019, which changed slightly again."
   ]
  },
  {
   "cell_type": "code",
   "execution_count": null,
   "metadata": {},
   "outputs": [],
   "source": [
    "%%sql \n",
    "COPY INTO historic_data FROM\n",
    "(SELECT $1 as DeviceId, $2 as ArrivalTime, $3 as DepartureTime, $4 as Duration, $5 as StreetMarker,\n",
    "        $7 as Sign, $8 as Area, $9 as StreetId, $10 as StreetName, $12 as BetweenStreet1, $14 as BetweenStreet2,\n",
    "        $15 as SideOfStreet, $18 as InViolation, $19 as VehiclePresent\n",
    "FROM @melbourne_cc_parking_history/2018)\n",
    "RETURN_FAILED_ONLY=TRUE;\n"
   ]
  },
  {
   "cell_type": "code",
   "execution_count": null,
   "metadata": {},
   "outputs": [],
   "source": [
    "%%sql \n",
    "COPY INTO historic_data FROM\n",
    "(SELECT $1 as DeviceId, $2 as ArrivalTime, $3 as DepartureTime, $4 as Duration, $5 as StreetMarker,\n",
    "        $7 as Sign, $8 as Area, $9 as StreetId, $10 as StreetName, $12 as BetweenStreet1, $14 as BetweenStreet2,\n",
    "        $15 as SideOfStreet, $19 as InViolation, $20 as VehiclePresent\n",
    "FROM @melbourne_cc_parking_history/2019)\n",
    "RETURN_FAILED_ONLY=TRUE;"
   ]
  },
  {
   "cell_type": "markdown",
   "metadata": {},
   "source": [
    "### 3.4 Checking our work\n",
    "If everything went to plan, these two queries should return 35,908,877 and 327,648,452 respectively."
   ]
  },
  {
   "cell_type": "code",
   "execution_count": null,
   "metadata": {},
   "outputs": [],
   "source": [
    "%sql SELECT count(*) FROM historic_data WHERE year(ArrivalTime) = 2017;\n",
    "#35,908,877"
   ]
  },
  {
   "cell_type": "code",
   "execution_count": null,
   "metadata": {},
   "outputs": [],
   "source": [
    "%sql SELECT count(*) FROM historic_data;\n",
    "#327,648,452"
   ]
  },
  {
   "cell_type": "markdown",
   "metadata": {},
   "source": [
    "### 3.5 Standardising the data\n",
    "There's two final data quality items we want to take care of before we start to analyse our data:\n",
    "\n",
    "1) Data after 2018 refers to duration in minutes, not in seconds. \n",
    "\n",
    "2) We need to make sure none of the streets are typoed, or the whole thing could go wrong!\n"
   ]
  },
  {
   "cell_type": "code",
   "execution_count": null,
   "metadata": {},
   "outputs": [],
   "source": [
    "%%sql\n",
    "UPDATE historic_data\n",
    "SET Duration = DateDiff('s',ArrivalTime,DepartureTime);"
   ]
  },
  {
   "cell_type": "markdown",
   "metadata": {},
   "source": [
    "Let's quickly check for typos - the `editdistance` function checks the Levenstein distance between two strings; a good enough method to quickly check that no street names have been accidentally mis-entered."
   ]
  },
  {
   "cell_type": "code",
   "execution_count": null,
   "metadata": {},
   "outputs": [],
   "source": [
    "%%sql\n",
    "with street_names as (SELECT BetweenStreet1 as StreetName FROM historic_data \n",
    "                      UNION SELECT BetweenStreet2 as StreetName FROM historic_data)\n",
    "SELECT s1.StreetName, s2.StreetName\n",
    "FROM street_names s1\n",
    "    JOIN street_names s2 on editdistance(s1.StreetName, s2.StreetName)<4\n",
    "     and s1.StreetName != s2.StreetName ;"
   ]
  },
  {
   "cell_type": "markdown",
   "metadata": {},
   "source": [
    "## 4.0 Analysing our data\n",
    "It's time to look at the data and work out what we need to do to get our data into a state fit to work with our machine learning tool.\n",
    "\n",
    "Unfortunately, for maximum speed, we now need to drop down a level - ipython-sql doesn't let us access the method that we need on the Snowflake Python driver.\n",
    "\n",
    "Let's take a look at a subset of the data for a single set of carparks in Docklands; but this time in Pandas."
   ]
  },
  {
   "cell_type": "code",
   "execution_count": null,
   "metadata": {},
   "outputs": [],
   "source": [
    "connection.cursor().execute(\"\"\"\n",
    "select * from historic_data \n",
    "    where streetname = 'CARAVEL LANE' \n",
    "    and betweenstreet1 = 'SAINT MANGOS LANE' \n",
    "    and betweenstreet2 = 'AQUITANIA WAY' \n",
    "order by arrivaltime asc;\"\"\").fetch_pandas_all()"
   ]
  },
  {
   "attachments": {
    "image.png": {
     "image/png": "[encoded data removed]"
    }
   },
   "cell_type": "markdown",
   "metadata": {},
   "source": [
    "## 5.0 Feature Engineering / Data Transformation\n",
    "\n",
    "There are 'duplicates' in this data that make it hard to sum up the total number of parks at any given time - ie. some events don't represent a car entering or leaving a park. \n",
    "\n",
    "![image.png](attachment:image.png)\n",
    "\n",
    "We need to collapse them so that every record represents such an event. To do this, we're going to use a QUALIFY clause - a SQL extension only present on select products, but highly useful. It will filter records out of our recordset that don't match a certain condition using a window function. \n",
    "\n",
    "In this case the window function is fairly simple, when you break it down. \n",
    "\n",
    "1. Transform VehiclePresent=False to equal 1, and VehiclePresent=True to equal 0. (This is slightly counter-intuitive, but later we're going to count up how many free spots there are).\n",
    "\n",
    "2. If we iterate over events for a given parking space in the order that they were registered, it is clear that the average of VehiclePresent will be 0.5 between any two events where the VehiclePresent value changes. \n",
    "\n",
    "3. So, the `avg` function, combined with a window function, calculates exactly that:\n",
    "\n",
    "```\n",
    "    avg(CASE WHEN vehiclepresent = False THEN 1  \n",
    "        WHEN vehiclepresent = True THEN 0\n",
    "        END) \n",
    "    over \n",
    "        (partition by streetmarker \n",
    "         order by arrivaltime asc \n",
    "         rows between 1 preceding and 0 following)\n",
    "```     \n",
    "        \n",
    "4. The `QUALIFY` clause then filters out any records where there wasn't a change. \n",
    "\n",
    "\n",
    "Note: we're making a key assumption here. The first is that the Departure Time for an event always corresponds to the Arrival Time for the next event. This is _generally_ true, but isn't the case at the end of each year, as MCC cut off any events that go over the New Year. Don't use this to predict parking availability on New Years Eve - take a tram!"
   ]
  },
  {
   "cell_type": "code",
   "execution_count": null,
   "metadata": {},
   "outputs": [],
   "source": [
    "#Picking on a certain year/streetmarker to test\n",
    "cursor = connection.cursor().execute(\"\"\"\n",
    "SELECT * FROM historic_data\n",
    "WHERE streetmarker = '13853S'\n",
    "and year(arrivaltime) = 2018\n",
    "QUALIFY avg(CASE WHEN vehiclepresent = False THEN 1  \n",
    "        WHEN vehiclepresent = True THEN 0\n",
    "    END) over \n",
    "        (partition by streetmarker order by arrivaltime asc rows between 1 preceding and 0 following) = 0.5\n",
    "    or (row_number() over (partition by streetmarker order by arrivaltime asc) = 1)\n",
    "ORDER BY arrivaltime asc;\"\"\")\n",
    "dataframe = cursor.fetch_pandas_all()\n",
    "dataframe"
   ]
  },
  {
   "cell_type": "code",
   "execution_count": null,
   "metadata": {},
   "outputs": [],
   "source": [
    "%%sql\n",
    "ALTER WAREHOUSE parking_wh SET WAREHOUSE_SIZE = Large;\n",
    "CREATE OR REPLACE TRANSIENT TABLE historic_data_changes_only AS SELECT * FROM historic_data\n",
    "QUALIFY avg(CASE WHEN vehiclepresent = False THEN 1  \n",
    "        WHEN vehiclepresent = True THEN 0\n",
    "    END) over \n",
    "        (partition by streetmarker order by arrivaltime asc rows between 1 preceding and 0 following) = 0.5\n",
    "    or (row_number() over (partition by streetmarker order by arrivaltime asc) = 1)\n",
    "ORDER BY arrivaltime asc;"
   ]
  },
  {
   "cell_type": "markdown",
   "metadata": {},
   "source": [
    "Now that each record represents an event, we can go ahead and count up how many free spaces there are for any given area, in this case, by each block. This can take longer than I'd like to wait in a live workshop! \n",
    "\n",
    "So, we'll scale up the warehouse that we're using. It will basically instantly scale up, we'll run the query, and then the warehouse will scale back down. "
   ]
  },
  {
   "cell_type": "code",
   "execution_count": null,
   "metadata": {},
   "outputs": [],
   "source": [
    "connection.cursor().execute(\"\"\"ALTER WAREHOUSE parking_wh SET WAREHOUSE_SIZE=XXLARGE;\"\"\")\n",
    "cursor = connection.cursor().execute(\"\"\"\n",
    "CREATE OR REPLACE TRANSIENT TABLE historic_data_freeparks_vs_total as\n",
    "with parks as (\n",
    "select streetmarker, arrivaltime, streetname, betweenstreet1, betweenstreet2, 1 counter, \n",
    "        CASE WHEN vehiclepresent = False THEN 0\n",
    "            WHEN vehiclepresent = True THEN 1\n",
    "        END as freeparks\n",
    "    from historic_data_changes_only \n",
    "    qualify row_number() over (partition by streetmarker order by arrivaltime asc) = 1\n",
    "union all\n",
    "select streetmarker, arrivaltime, streetname, betweenstreet1, betweenstreet2, 0 counter,\n",
    "    CASE WHEN vehiclepresent = False THEN 1\n",
    "        WHEN vehiclepresent = True THEN -1\n",
    "    END as freeparks\n",
    "    from historic_data_changes_only \n",
    ")\n",
    "SELECT arrivaltime, \n",
    "        streetname, betweenstreet1, betweenstreet2,\n",
    "        sum(freeparks) over (partition by streetname, betweenstreet1, betweenstreet2 order by arrivaltime asc) freeparks, \n",
    "        sum(counter) over (partition by streetname, betweenstreet1, betweenstreet2 order by arrivaltime asc RANGE BETWEEN UNBOUNDED PRECEDING AND CURRENT ROW) counter\n",
    "FROM parks\n",
    "ORDER BY arrivaltime asc;\"\"\")\n",
    "connection.cursor().execute(\"\"\"ALTER WAREHOUSE parking_wh SET WAREHOUSE_SIZE=medium;\"\"\")"
   ]
  },
  {
   "cell_type": "markdown",
   "metadata": {},
   "source": [
    "## 6.0 Fitting the Model\n",
    "Now that we've engineered our features, we can go ahead and train our model. First, we'll pull down a dataframe in the required format for the FB Prophet library. Then, we'll fit the model over the data. "
   ]
  },
  {
   "cell_type": "code",
   "execution_count": null,
   "metadata": {},
   "outputs": [],
   "source": [
    "cursor = connection.cursor().execute(\"\"\"\n",
    "SELECT arrivaltime as \"ds\", \n",
    "       freeparks as \"y\"\n",
    "FROM historic_data_freeparks_vs_total\n",
    "    where streetname = 'CARAVEL LANE' \n",
    "    and betweenstreet1 = 'SAINT MANGOS LANE' \n",
    "    and betweenstreet2 = 'AQUITANIA WAY' \n",
    "and year(arrivaltime) = 2017\n",
    "and month(arrivaltime) > 6\n",
    "ORDER BY arrivaltime asc;\"\"\")\n",
    "dataframe = cursor.fetch_pandas_all()"
   ]
  },
  {
   "cell_type": "code",
   "execution_count": null,
   "metadata": {},
   "outputs": [],
   "source": [
    "from fbprophet import Prophet\n",
    "\n",
    "m2 = Prophet().fit(dataframe)\n"
   ]
  },
  {
   "cell_type": "markdown",
   "metadata": {},
   "source": [
    "## 7.0 Running a prediction\n",
    "Let's run a prediction!\n",
    "First, we create a dataframe with space for the future. Then, we predict over it. It's that easy!"
   ]
  },
  {
   "cell_type": "code",
   "execution_count": null,
   "metadata": {},
   "outputs": [],
   "source": [
    "future2 = m2.make_future_dataframe(periods=1008, freq='10min')"
   ]
  },
  {
   "cell_type": "code",
   "execution_count": null,
   "metadata": {},
   "outputs": [],
   "source": [
    "fcst = m2.predict(future2)\n"
   ]
  },
  {
   "cell_type": "code",
   "execution_count": null,
   "metadata": {},
   "outputs": [],
   "source": [
    "fig = m2.plot_components(fcst)"
   ]
  },
  {
   "cell_type": "markdown",
   "metadata": {},
   "source": [
    "## 8.0 Loading back into Snowflake \n"
   ]
  },
  {
   "cell_type": "code",
   "execution_count": null,
   "metadata": {},
   "outputs": [],
   "source": [
    "from sqlalchemy import create_engine\n",
    "engine = create_engine(connection_string+'/mcc_open_data/parking_sensors?role=sysadmin&warehouse=parking_wh')\n",
    "#engine.execute('use role sysadmin;')\n",
    "#engine.execute('use mcc_open_data;')\n",
    "engine.execute('use schema parking_sensors;')\n",
    "#engine.execute('use warehouse parking_wh;')\n",
    "table_name = 'prediction5'\n",
    "fcst.to_sql(table_name, engine, if_exists='fail', index=False, chunksize=16000)"
   ]
  },
  {
   "cell_type": "markdown",
   "metadata": {},
   "source": [
    "## Conclusion\n",
    "\n",
    "At this stage we've very quickly used Snowflake to ingest, transform and load data to a model, before loading predictions from that model back into Snowflake (without doing the necessary evaluation of the model, which is likely extremely poor).\n",
    "\n",
    "Now, we can use _Snowsight_ to visualise the predictions we made with that model, in the Snowflake UI. \n",
    "\n",
    "However, there's a number of other things we can do from here: \n",
    "\n",
    "1. We can load the model into a serverless computing environment, and use it as an _External Function_ in Snowflake. \n",
    "2. We can use data available on the data marketplace to augment te data we've already gathered to improve performance with a different model\n",
    "3. We can use different models available in Python, such as Support Vector Machines, to generate and test better models\n",
    "4. We can use SnowPipe to microbatch parking data into Snowflake from Melbourne City Council's live open data portal.\n",
    "\n",
    "Take a look a https://guides.snowflake.com for some more ways of using Snowflake in Python, including [Getting Started with Python on Snowflake](https://guides.snowflake.com/guide/getting_started_with_python/index.html?index=..%2F..index#0), [implementing in-query predictions with AWS Sagemaker and Snowflake External Functions](https://guides.snowflake.com/guide/recommendation_engine_aws_sagemaker/index.html?index=..%2F..index#0), and [Automatically ingesting Twitter data into Snowflake on a regular basis](https://guides.snowflake.com/guide/Auto-Ingest_Twitter_Data_into_Snowflake/index.html?index=..%2F..index#0)."
   ]
  },
  {
   "cell_type": "markdown",
   "metadata": {},
   "source": [
    "## Miscellaneous"
   ]
  },
  {
   "cell_type": "markdown",
   "metadata": {},
   "source": [
    "### Dropped/Replaced Database / Schema\n",
    "Did you accidentally re-run the `create or replace` statements or accidentally drop your database/schema?\n",
    "No matter! Snowflake lets you travel back in time to get them back with `UNDROP`. Here's how:\n",
    "\n",
    "1) _Rename_ the replacement database to get it out of your way. \n",
    "\n",
    "2) `UNDROP` the old database. \n",
    "\n",
    "That's it!"
   ]
  },
  {
   "cell_type": "code",
   "execution_count": null,
   "metadata": {},
   "outputs": [],
   "source": [
    "%%sql \n",
    "\n",
    "ALTER DATABASE IF EXISTS mcc_open_data RENAME TO mcc_open_data_bak;\n",
    "UNDROP DATABASE mcc_open_data;\n",
    "\n"
   ]
  },
  {
   "cell_type": "markdown",
   "metadata": {},
   "source": [
    "# Bonus Content\n"
   ]
  },
  {
   "cell_type": "markdown",
   "metadata": {},
   "source": [
    "Below is content that I developed at the last minute in case we raced through the above - it loads some more data (including some JSON based weather data and pedestrian sensor data from the Melbourne CBD). We then run a Support Vector Machine over that data."
   ]
  },
  {
   "cell_type": "markdown",
   "metadata": {},
   "source": [
    "One advantage of using Snowflake is the ability to leverage multiple cloud providers - as I had to in order to load this data when AWS S3 was having issues with my network. As such, this data is all on an Azure stage, even though our accounts are in AWS."
   ]
  },
  {
   "cell_type": "markdown",
   "metadata": {},
   "source": [
    "### Step 1: Set up File Formats\n",
    "Snowflake's use of File Formats is how we handle so many different file-types without needing to re-define them everytime we want to use them."
   ]
  },
  {
   "cell_type": "code",
   "execution_count": null,
   "metadata": {},
   "outputs": [],
   "source": [
    "%%sql\n",
    "CREATE OR REPLACE FILE FORMAT pedestrian_csvs \n",
    "    TYPE=CSV\n",
    "    TIMESTAMP_FORMAT='MM/DD/YYYY HH12:MI:SS AM'\n",
    "    DATE_FORMAT='yyyy/mm/dd'\n",
    "    skip_header=1\n",
    "    FIELD_OPTIONALLY_ENCLOSED_BY = '\"'\n",
    "    ;\n",
    "    \n",
    "CREATE OR REPLACE STAGE pedestrian_data \n",
    "URL= 'azure://melbournepedestrian.blob.core.windows.net/pedestrian-data'\n",
    "FILE_FORMAT = pedestrian_csvs\n",
    "copy_options=(ON_ERROR=SKIP_FILE_9);\n",
    "\n",
    "CREATE OR REPLACE STAGE pedestrian_locations\n",
    "URL= 'azure://melbournepedestrian.blob.core.windows.net/pedestrian-locations'\n",
    "FILE_FORMAT = pedestrian_csvs\n",
    "copy_options=(ON_ERROR=SKIP_FILE_9);\n",
    "\n",
    "CREATE OR REPLACE STAGE weather_data\n",
    "URL= 'azure://melbournepedestrian.blob.core.windows.net/weather-data'\n",
    "FILE_FORMAT = (TYPE=JSON STRIP_OUTER_ARRAY=TRUE);\n",
    "    "
   ]
  },
  {
   "cell_type": "markdown",
   "metadata": {},
   "source": [
    "### Step 2: Create the tables we need "
   ]
  },
  {
   "cell_type": "code",
   "execution_count": null,
   "metadata": {},
   "outputs": [],
   "source": [
    "%%sql\n",
    "CREATE OR REPLACE TABLE pedestrian_counts\n",
    "(ID integer,\n",
    " Date_Time timestamp,\n",
    " Year integer,\n",
    " Month string,\n",
    " MDate integer,\n",
    " Day string,\n",
    " Time integer,\n",
    " Sensor_ID integer,\n",
    " Sensor_Name string,\n",
    " Hourly_Counts integer\n",
    " );\n",
    "\n",
    "CREATE OR REPLACE TABLE sensor_locations\n",
    "(sensor_id integer,\n",
    " sensor_description string,\n",
    " sensor_name string,\n",
    " installation_date date,\n",
    " status string,\n",
    " note string,\n",
    " direction_1 string,\n",
    " direction_2 string,\n",
    " latitude integer,\n",
    " longitude integer,\n",
    " location string\n",
    " )"
   ]
  },
  {
   "cell_type": "markdown",
   "metadata": {},
   "source": [
    "### Step 3: Load up the data"
   ]
  },
  {
   "cell_type": "code",
   "execution_count": null,
   "metadata": {},
   "outputs": [],
   "source": [
    "%sql COPY INTO sensor_locations from @pedestrian_locations;"
   ]
  },
  {
   "cell_type": "code",
   "execution_count": null,
   "metadata": {},
   "outputs": [],
   "source": [
    "%sql COPY INTO pedestrian_counts FROM @pedestrian_data;"
   ]
  },
  {
   "cell_type": "code",
   "execution_count": null,
   "metadata": {
    "scrolled": true
   },
   "outputs": [],
   "source": [
    "%sql SELECT * FROM pedestrian_counts where sensor_id=39 and date(date_time)='2018-12-21'"
   ]
  },
  {
   "cell_type": "markdown",
   "metadata": {},
   "source": [
    "### Step 4: Load up weather data. \n",
    "This is JSON data, so we use Snowflake's VARIANT column type. "
   ]
  },
  {
   "cell_type": "code",
   "execution_count": null,
   "metadata": {},
   "outputs": [],
   "source": [
    "%sql CREATE OR REPLACE TABLE weather_data(weather variant);"
   ]
  },
  {
   "cell_type": "code",
   "execution_count": null,
   "metadata": {},
   "outputs": [],
   "source": [
    "%sql COPY INTO weather_data FROM @weather_data;"
   ]
  },
  {
   "cell_type": "markdown",
   "metadata": {},
   "source": [
    "Snowflake works really well for JSON data - it's easy to ingest, and Snowflake optimises it without altering the structure:"
   ]
  },
  {
   "cell_type": "code",
   "execution_count": null,
   "metadata": {
    "scrolled": true
   },
   "outputs": [],
   "source": [
    "%sql SELECT * FROM weather_data limit 10;"
   ]
  },
  {
   "cell_type": "markdown",
   "metadata": {},
   "source": [
    "It's also easy to query; see how we can get the weather temperature and description very easily within SQL. "
   ]
  },
  {
   "cell_type": "code",
   "execution_count": null,
   "metadata": {},
   "outputs": [],
   "source": [
    "connection.cursor().execute(\n",
    "    'SELECT weather:dt::timestamp, weather:main:temp, weather:weather[0]:main, weather FROM weather_data limit 10;').fetch_pandas_all()\n"
   ]
  },
  {
   "cell_type": "markdown",
   "metadata": {},
   "source": [
    "Next we need to do a one-hot encoding. There are ways to do this in pure Snowflake SQL and pure Python, but they actually work really well together in this instance. First, we're going to get all the descriptions in the set with the DISTINCT clause, and put them into a Snowflake list:"
   ]
  },
  {
   "cell_type": "code",
   "execution_count": null,
   "metadata": {},
   "outputs": [],
   "source": [
    "weathers = ','.join(connection.cursor().execute(\"SELECT distinct weather:weather[0]:main weather FROM weather_data\").fetch_pandas_all()['WEATHER']).replace('\"',\"'\")\n",
    "print(weathers)"
   ]
  },
  {
   "cell_type": "markdown",
   "metadata": {},
   "source": [
    "Then, we can automatically construct a query string that uses the SQL pivot to get the weather values encoded.  "
   ]
  },
  {
   "cell_type": "code",
   "execution_count": null,
   "metadata": {},
   "outputs": [],
   "source": [
    "connection.cursor().execute(\n",
    "    '''\n",
    "    WITH weather as \n",
    "    (SELECT weather:dt::timestamp timestamp, weather:main:temp temp, weather:weather[0]:main weather, 1 as one\n",
    "    FROM weather_data)\n",
    "    SELECT p.*\n",
    "    FROM weather\n",
    "        pivot (count(one) for weather in ({})) as p\n",
    "    ORDER BY 1 \n",
    "    '''.format(weathers)).fetch_pandas_all()"
   ]
  },
  {
   "cell_type": "markdown",
   "metadata": {},
   "source": [
    "### Step 5: Combine Weather data and Pedestrian Counts\n",
    "\n",
    "The below query combines the query we built above to one-hot encode the weather data with the pedestrian count data. We split the hours into odd/even and then average them out to reduce the total amount of data (so as to not set my macbook on fire). "
   ]
  },
  {
   "cell_type": "code",
   "execution_count": null,
   "metadata": {},
   "outputs": [],
   "source": [
    "dataframe = connection.cursor().execute(\n",
    "    '''\n",
    "    WITH weather as\n",
    "    (SELECT weather:dt::timestamp timestamp, weather:main:temp temp, weather:weather[0]:main weather, 1 as one\n",
    "    FROM weather_data)\n",
    "    , encoded_weather as (SELECT p.*\n",
    "                            FROM weather \n",
    "                                pivot (count(one) for weather in ({})) as p\n",
    "                            ORDER BY 1), -- this is just the query from above\n",
    "    odd_hours as \n",
    "        (SELECT hourly_counts odd_counts, \n",
    "                sensor_id sensor_id_odd, \n",
    "                dateadd(hour,-1,date_time) date_time_odd FROM pedestrian_counts \n",
    "                WHERE mod(date_part(hour,date_time),2)=1) -- getting every odd hour\n",
    "    SELECT (hourly_counts+odd_counts)/2 as avg_count, \n",
    "            sensor_id, \n",
    "            encoded_weather.*, \n",
    "            month(timestamp) as month, \n",
    "            date_part(dayofmonth, timestamp) as dayofmonth, \n",
    "            date_part(dayofweek,timestamp) as dayofweek, \n",
    "            hour(timestamp) as hour\n",
    "    FROM pedestrian_counts  -- this will be the even hours due to the where clause\n",
    "    JOIN encoded_weather on date_time=timestamp\n",
    "    LEFT JOIN odd_hours on date_time=date_time_odd and sensor_id_odd=sensor_id\n",
    "    WHERE year(timestamp) in(2017,2018) and mod(date_part(hour,date_time),2)=0\n",
    "    ORDER BY timestamp \n",
    "    '''.format(weathers)).fetch_pandas_all()"
   ]
  },
  {
   "cell_type": "code",
   "execution_count": null,
   "metadata": {},
   "outputs": [],
   "source": [
    "dataframe"
   ]
  },
  {
   "cell_type": "markdown",
   "metadata": {},
   "source": [
    "If we want to de-fire the local machine even further, we can use a Window function to reduce the amount down to every 6 hours, and set the sensor id to a single sensor."
   ]
  },
  {
   "cell_type": "code",
   "execution_count": null,
   "metadata": {},
   "outputs": [],
   "source": [
    "dataframe = connection.cursor().execute(\n",
    "    '''\n",
    "    WITH weather as \n",
    "    (SELECT weather:dt::timestamp timestamp, weather:main:temp temp, weather:weather[0]:main weather, 1 as one\n",
    "    FROM weather_data)\n",
    "    , encoded_weather as (SELECT p.*\n",
    "    FROM weather \n",
    "        pivot (count(one) for weather in ({})) as p\n",
    "    ORDER BY 1),\n",
    "    six_hourly as \n",
    "    (SELECT avg(hourly_counts) over (order by date_time rows between 6 preceding and current row) six_hourly_counts, date_time, sensor_id FROM pedestrian_counts)\n",
    "    SELECT six_hourly_counts, sensor_id, encoded_weather.*, month(timestamp) as month, date_part(dayofmonth, timestamp) as dayofmonth, date_part(dayofweek,timestamp) as dayofweek, hour(timestamp) as hour\n",
    "    FROM six_hourly \n",
    "    JOIN encoded_weather on date_time=timestamp\n",
    "    WHERE year(timestamp) in(2017,2018) and mod(date_part(hour,date_time),6)=0 and sensor_id=39\n",
    "    ORDER BY timestamp \n",
    "    '''.format(weathers)).fetch_pandas_all()"
   ]
  },
  {
   "cell_type": "code",
   "execution_count": null,
   "metadata": {},
   "outputs": [],
   "source": [
    "dataframe"
   ]
  },
  {
   "cell_type": "markdown",
   "metadata": {},
   "source": [
    "Six-hourly or every second hour is probably not useful - let's keep it to one hourly data, but for one sensor."
   ]
  },
  {
   "cell_type": "code",
   "execution_count": null,
   "metadata": {},
   "outputs": [],
   "source": [
    "dataframe = connection.cursor().execute(\n",
    "    '''\n",
    "    WITH weather as \n",
    "    (SELECT weather:dt::timestamp timestamp, weather:main:temp temp, weather:weather[0]:main weather, 1 as one\n",
    "    FROM weather_data)\n",
    "    , encoded_weather as (SELECT p.*\n",
    "    FROM weather \n",
    "        pivot (count(one) for weather in ({})) as p\n",
    "    ORDER BY 1)\n",
    "    SELECT hourly_counts, sensor_id, encoded_weather.*, month(timestamp) as month, date_part(dayofmonth, timestamp) as dayofmonth, date_part(dayofweek,timestamp) as dayofweek, hour(timestamp) as hour\n",
    "    FROM pedestrian_counts\n",
    "    JOIN encoded_weather on date_time=timestamp\n",
    "    WHERE year(timestamp)< 2019 and sensor_id=39\n",
    "    ORDER BY timestamp \n",
    "    '''.format(weathers)).fetch_pandas_all()"
   ]
  },
  {
   "cell_type": "markdown",
   "metadata": {},
   "source": [
    "Now let's pull out the values as the labels for the dataset that we're training on. We also get rid of the Timestamp as the query above splits into hour by hour. "
   ]
  },
  {
   "cell_type": "code",
   "execution_count": null,
   "metadata": {},
   "outputs": [],
   "source": [
    "\n",
    "y = dataframe.pop('HOURLY_COUNTS').values\n",
    "dataframe.pop('TIMESTAMP')\n"
   ]
  },
  {
   "cell_type": "code",
   "execution_count": null,
   "metadata": {},
   "outputs": [],
   "source": [
    "dataframe"
   ]
  },
  {
   "cell_type": "markdown",
   "metadata": {},
   "source": [
    "### Step 6: ~Magic~ Machine Learning\n",
    "Now we have a Pandas data frame with features, and a Series with labels, it's time to train a model. \n",
    "First, let's install SciKit Learn and Matplotlib."
   ]
  },
  {
   "cell_type": "code",
   "execution_count": null,
   "metadata": {},
   "outputs": [],
   "source": [
    "!pip install sklearn\n",
    "!pip install matplotlib"
   ]
  },
  {
   "cell_type": "markdown",
   "metadata": {},
   "source": [
    "Now we're going to fit a Support Vector Regression model to our data. Scikit Learn has other models too, but this one seems like a good first attempt. "
   ]
  },
  {
   "cell_type": "code",
   "execution_count": null,
   "metadata": {},
   "outputs": [],
   "source": [
    "from sklearn import svm\n",
    "from matplotlib import pyplot as plt\n",
    "import pickle\n",
    "m = svm.SVR(kernel='linear')\n",
    "m.fit(dataframe.values, y)\n",
    "s = pickle.dumps(m)\n",
    "with open('./model.pickle','wb') as x:\n",
    "    x.write(s)\n",
    "    \n"
   ]
  },
  {
   "cell_type": "code",
   "execution_count": null,
   "metadata": {},
   "outputs": [],
   "source": [
    "coef = pd.Series(m.coef_[0], name='coef')\n",
    "names = pd.Series(dataframe.columns, name='columns')\n",
    "pd.concat([names,coef], axis=1).plot.bar(x='columns', y='coef')"
   ]
  },
  {
   "cell_type": "markdown",
   "metadata": {},
   "source": [
    "Now, let's pull a test set. We trained our data on pre-2019 - let's see how it would have worked in 2019. "
   ]
  },
  {
   "cell_type": "code",
   "execution_count": null,
   "metadata": {},
   "outputs": [],
   "source": [
    "df_test = connection.cursor().execute(\n",
    "    '''\n",
    "    WITH weather as \n",
    "    (SELECT weather:dt::timestamp timestamp, weather:main:temp temp, weather:weather[0]:main weather, 1 as one\n",
    "    FROM weather_data)\n",
    "    , encoded_weather as (SELECT p.*\n",
    "    FROM weather \n",
    "        pivot (count(one) for weather in ({})) as p\n",
    "    ORDER BY 1)\n",
    "    SELECT hourly_counts, sensor_id, encoded_weather.*, month(timestamp) as month, date_part(dayofmonth, timestamp) as dayofmonth, date_part(dayofweek,timestamp) as dayofweek, hour(timestamp) as hour\n",
    "    FROM pedestrian_counts\n",
    "    JOIN encoded_weather on date_time=timestamp\n",
    "    WHERE year(timestamp) in(2019) and sensor_id=39\n",
    "    ORDER BY timestamp \n",
    "    '''.format(weathers)).fetch_pandas_all()"
   ]
  },
  {
   "cell_type": "code",
   "execution_count": null,
   "metadata": {},
   "outputs": [],
   "source": [
    "\n",
    "y_2019 = df_test.pop('HOURLY_COUNTS').values\n",
    "times = df_test.pop('TIMESTAMP')\n"
   ]
  },
  {
   "cell_type": "code",
   "execution_count": null,
   "metadata": {},
   "outputs": [],
   "source": [
    "\n",
    "preds = m.predict(df_test)\n",
    "m.score(df_test.values, y_2019)\n"
   ]
  },
  {
   "cell_type": "markdown",
   "metadata": {},
   "source": [
    "... not great."
   ]
  },
  {
   "cell_type": "code",
   "execution_count": null,
   "metadata": {},
   "outputs": [],
   "source": [
    "pd_y = pd.Series(y_2019, name='ACTUAL')\n",
    "pd_preds = pd.Series(preds, name='PREDICTED')\n",
    "df = pd.concat([times, pd_y, pd_preds], axis=1)\n",
    "#df = pd.DataFrame(data=[{'date_time':times.values, 'y':y[:, 0], 'preds':preds[:, 0]}], index=times.index)\n",
    "df"
   ]
  },
  {
   "cell_type": "code",
   "execution_count": null,
   "metadata": {},
   "outputs": [],
   "source": [
    "df.plot(x='TIMESTAMP', y=['ACTUAL','PREDICTED'])"
   ]
  },
  {
   "cell_type": "code",
   "execution_count": null,
   "metadata": {},
   "outputs": [],
   "source": [
    "df[(df['TIMESTAMP']>'2019-12-02') & (df['TIMESTAMP']<'2019-12-03')]"
   ]
  },
  {
   "cell_type": "code",
   "execution_count": null,
   "metadata": {},
   "outputs": [],
   "source": []
  }
 ],
 "metadata": {
  "kernelspec": {
   "display_name": "Python 3",
   "language": "python",
   "name": "python3"
  },
  "language_info": {
   "codemirror_mode": {
    "name": "ipython",
    "version": 3
   },
   "file_extension": ".py",
   "mimetype": "text/x-python",
   "name": "python",
   "nbconvert_exporter": "python",
   "pygments_lexer": "ipython3",
   "version": "3.8.5"
  }
 },
 "nbformat": 4,
 "nbformat_minor": 4
}
